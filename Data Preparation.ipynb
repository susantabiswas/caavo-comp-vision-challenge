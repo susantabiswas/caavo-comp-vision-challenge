{
 "cells": [
  {
   "cell_type": "code",
   "execution_count": 1,
   "metadata": {},
   "outputs": [],
   "source": [
    "import numpy as np\n",
    "import pandas as pd\n",
    "import os\n",
    "import cv2\n",
    "import sys\n",
    "from tqdm import tqdm"
   ]
  },
  {
   "cell_type": "code",
   "execution_count": 3,
   "metadata": {},
   "outputs": [],
   "source": [
    "# returns no. of files in the directory\n",
    "def scan_dir(label, path):\n",
    "    dirs = os.listdir( path )\n",
    "    # print the files in given directory\n",
    "    return dirs"
   ]
  },
  {
   "cell_type": "code",
   "execution_count": 5,
   "metadata": {},
   "outputs": [
    {
     "name": "stdout",
     "output_type": "stream",
     "text": [
      "0: 784\n",
      "1: 6186\n",
      "2: 7936\n",
      "3: 8203\n",
      "4: 8835\n",
      "5: 683\n",
      "6: 5083\n",
      "7: 1248\n",
      "8: 3752\n",
      "9: 5301\n",
      "10: 4560\n",
      "11: 1248\n",
      "12: 4848\n",
      "13: 2935\n",
      "14: 656\n"
     ]
    }
   ],
   "source": [
    "# training path\n",
    "path = 'dataset//train//'\n",
    "dir_list = []\n",
    "# shows the distribution of images of different categories\n",
    "for i in range(15):\n",
    "    label = str(i)\n",
    "    dirs = scan_dir(label, path + label)\n",
    "    print(label + ': ' + str(len(dirs)))\n",
    "    dir_list.append(len(dirs))"
   ]
  },
  {
   "cell_type": "code",
   "execution_count": 11,
   "metadata": {},
   "outputs": [
    {
     "data": {
      "text/plain": [
       "62258"
      ]
     },
     "execution_count": 11,
     "metadata": {},
     "output_type": "execute_result"
    }
   ],
   "source": [
    "np.sum(dir_list)"
   ]
  },
  {
   "cell_type": "code",
   "execution_count": 36,
   "metadata": {
    "scrolled": true
   },
   "outputs": [
    {
     "name": "stderr",
     "output_type": "stream",
     "text": [
      "100%|█████████████████████████████████████████████████████████████████████████████████████████████| 784/784 [00:00<00:00, 909.50it/s]\n"
     ]
    },
    {
     "name": "stdout",
     "output_type": "stream",
     "text": [
      "0 done.\n"
     ]
    },
    {
     "name": "stderr",
     "output_type": "stream",
     "text": [
      "100%|███████████████████████████████████████████████████████████████████████████████████████████| 6186/6186 [00:18<00:00, 335.93it/s]\n"
     ]
    },
    {
     "name": "stdout",
     "output_type": "stream",
     "text": [
      "1 done.\n"
     ]
    },
    {
     "name": "stderr",
     "output_type": "stream",
     "text": [
      "100%|████████████████████████████████████████████████████████████████████████████████████████████| 7936/7936 [01:35<00:00, 82.87it/s]\n"
     ]
    },
    {
     "name": "stdout",
     "output_type": "stream",
     "text": [
      "2 done.\n"
     ]
    },
    {
     "name": "stderr",
     "output_type": "stream",
     "text": [
      "100%|████████████████████████████████████████████████████████████████████████████████████████████| 8203/8203 [01:40<00:00, 81.96it/s]\n"
     ]
    },
    {
     "name": "stdout",
     "output_type": "stream",
     "text": [
      "3 done.\n"
     ]
    },
    {
     "name": "stderr",
     "output_type": "stream",
     "text": [
      "100%|████████████████████████████████████████████████████████████████████████████████████████████| 8835/8835 [01:37<00:00, 90.95it/s]\n"
     ]
    },
    {
     "name": "stdout",
     "output_type": "stream",
     "text": [
      "4 done.\n"
     ]
    },
    {
     "name": "stderr",
     "output_type": "stream",
     "text": [
      "100%|██████████████████████████████████████████████████████████████████████████████████████████████| 683/683 [00:07<00:00, 96.13it/s]\n"
     ]
    },
    {
     "name": "stdout",
     "output_type": "stream",
     "text": [
      "5 done.\n"
     ]
    },
    {
     "name": "stderr",
     "output_type": "stream",
     "text": [
      "100%|████████████████████████████████████████████████████████████████████████████████████████████| 5083/5083 [01:07<00:00, 75.34it/s]\n"
     ]
    },
    {
     "name": "stdout",
     "output_type": "stream",
     "text": [
      "6 done.\n"
     ]
    },
    {
     "name": "stderr",
     "output_type": "stream",
     "text": [
      "100%|████████████████████████████████████████████████████████████████████████████████████████████| 1248/1248 [00:20<00:00, 59.74it/s]\n"
     ]
    },
    {
     "name": "stdout",
     "output_type": "stream",
     "text": [
      "7 done.\n"
     ]
    },
    {
     "name": "stderr",
     "output_type": "stream",
     "text": [
      "100%|████████████████████████████████████████████████████████████████████████████████████████████| 3752/3752 [00:51<00:00, 73.18it/s]\n"
     ]
    },
    {
     "name": "stdout",
     "output_type": "stream",
     "text": [
      "8 done.\n"
     ]
    },
    {
     "name": "stderr",
     "output_type": "stream",
     "text": [
      "100%|████████████████████████████████████████████████████████████████████████████████████████████| 5301/5301 [01:06<00:00, 79.45it/s]\n"
     ]
    },
    {
     "name": "stdout",
     "output_type": "stream",
     "text": [
      "9 done.\n"
     ]
    },
    {
     "name": "stderr",
     "output_type": "stream",
     "text": [
      "100%|████████████████████████████████████████████████████████████████████████████████████████████| 4560/4560 [01:16<00:00, 59.57it/s]\n"
     ]
    },
    {
     "name": "stdout",
     "output_type": "stream",
     "text": [
      "10 done.\n"
     ]
    },
    {
     "name": "stderr",
     "output_type": "stream",
     "text": [
      "100%|████████████████████████████████████████████████████████████████████████████████████████████| 1248/1248 [00:19<00:00, 63.49it/s]\n"
     ]
    },
    {
     "name": "stdout",
     "output_type": "stream",
     "text": [
      "11 done.\n"
     ]
    },
    {
     "name": "stderr",
     "output_type": "stream",
     "text": [
      "100%|████████████████████████████████████████████████████████████████████████████████████████████| 4848/4848 [01:24<00:00, 57.69it/s]\n"
     ]
    },
    {
     "name": "stdout",
     "output_type": "stream",
     "text": [
      "12 done.\n"
     ]
    },
    {
     "name": "stderr",
     "output_type": "stream",
     "text": [
      "100%|████████████████████████████████████████████████████████████████████████████████████████████| 2935/2935 [00:54<00:00, 53.50it/s]\n"
     ]
    },
    {
     "name": "stdout",
     "output_type": "stream",
     "text": [
      "13 done.\n"
     ]
    },
    {
     "name": "stderr",
     "output_type": "stream",
     "text": [
      "100%|██████████████████████████████████████████████████████████████████████████████████████████████| 656/656 [00:16<00:00, 40.73it/s]\n"
     ]
    },
    {
     "name": "stdout",
     "output_type": "stream",
     "text": [
      "14 done.\n",
      "14: min h: 92min w: 92\n"
     ]
    }
   ],
   "source": [
    "# training path\n",
    "#path = 'dataset//train//'\n",
    "\n",
    "min_h = 999999\n",
    "min_w = 999999\n",
    "# find out the minimum dimension out of all images\n",
    "for i in range(15):\n",
    "    label = str(i)\n",
    "    dirs = scan_dir(label, path + label)\n",
    "    \n",
    "    # iterate through files\n",
    "    for i in tqdm(range(len(dirs))):\n",
    "        filename = dirs[i]\n",
    "        img = cv2.imread(path + label + '//' + filename, -1)\n",
    "        h, w, _ = img.shape\n",
    "        # update minimum height and width if necessary\n",
    "        if h < min_h:\n",
    "            min_h = h\n",
    "        if w < min_w:\n",
    "            min_w = w\n",
    "    print(label + ' done.')       \n",
    "print(label + ': ' + 'min h: ' + str(min_h) + 'min w: ' + str(min_w) )"
   ]
  },
  {
   "cell_type": "markdown",
   "metadata": {},
   "source": [
    "## Correcting Data Distribution\n",
    "Data distribution is not good and so we will generate images to make it less skewed. Moreover we will create a validation dataset by augmenting images from Training."
   ]
  },
  {
   "cell_type": "code",
   "execution_count": 54,
   "metadata": {},
   "outputs": [],
   "source": [
    "from keras.preprocessing.image import ImageDataGenerator, array_to_img, img_to_array, load_img\n",
    "\n",
    "datagen = ImageDataGenerator(\n",
    "        rotation_range=40,\n",
    "        width_shift_range=0.2,\n",
    "        height_shift_range=0.2,\n",
    "        shear_range=0.2,\n",
    "        zoom_range=0.2,\n",
    "        horizontal_flip=True,\n",
    "        fill_mode='nearest')"
   ]
  },
  {
   "cell_type": "code",
   "execution_count": 55,
   "metadata": {},
   "outputs": [],
   "source": [
    "# generates given number of images for an image\n",
    "def generate_image(label, filename, samples_per_img, dest):\n",
    "    img = load_img('dataset/train//' + label + '//' + filename)  # this is a PIL image\n",
    "    x = img_to_array(img)  \n",
    "    x = x.reshape((1,) + x.shape)  \n",
    "    i = 0\n",
    "    for batch in datagen.flow(x, batch_size=1,\n",
    "                              save_to_dir=dest + '//' + label + '//', save_prefix='sample', save_format='jpg'):\n",
    "        i += 1\n",
    "        if i > samples_per_img-1:\n",
    "            break  # otherwise the generator would loop indefinitely"
   ]
  },
  {
   "cell_type": "code",
   "execution_count": 56,
   "metadata": {},
   "outputs": [
    {
     "data": {
      "text/plain": [
       "15"
      ]
     },
     "execution_count": 56,
     "metadata": {},
     "output_type": "execute_result"
    }
   ],
   "source": [
    "# now we will augment and save images for classes with less data\n",
    "len(dir_list)"
   ]
  },
  {
   "cell_type": "markdown",
   "metadata": {},
   "source": [
    "So we will augment data as following:<br>\n",
    "0--> 5000<br>\n",
    "1--> 0<br>\n",
    "2--> 0<br>\n",
    "3--> 0<br>\n",
    "4 --> 0<br>\n",
    "5 --> 5000<br>\n",
    "6--> 1000<br>\n",
    "7--> 5000<br>\n",
    "8--> 3000<br>\n",
    "9--> 1000<br>\n",
    "10--> 5000<br>\n",
    "11--> 2000<br>\n",
    "12--> 3000<br>\n",
    "13--> 5000<br>"
   ]
  },
  {
   "cell_type": "code",
   "execution_count": 63,
   "metadata": {},
   "outputs": [],
   "source": [
    "# training path\n",
    "path = 'dataset//train//'\n",
    "\n",
    "dir_list = []\n",
    "# iterate through different folders and get list of files in each folder\n",
    "for i in range(15):\n",
    "    label = str(i)\n",
    "    dirs = scan_dir(label, path + label)\n",
    "    dir_list.append(dirs)"
   ]
  },
  {
   "cell_type": "code",
   "execution_count": 64,
   "metadata": {
    "scrolled": true
   },
   "outputs": [
    {
     "name": "stderr",
     "output_type": "stream",
     "text": [
      "\n",
      "0it [00:00, ?it/s]"
     ]
    },
    {
     "name": "stdout",
     "output_type": "stream",
     "text": [
      "0\n"
     ]
    },
    {
     "name": "stderr",
     "output_type": "stream",
     "text": [
      "\n",
      "\n",
      "0it [00:00, ?it/s]\n",
      "\n",
      "2it [00:00, 18.03it/s]\n",
      "\n",
      "4it [00:00, 17.70it/s]\n",
      "\n",
      "6it [00:00, 17.29it/s]\n",
      "\n",
      "8it [00:00, 17.62it/s]\n",
      "\n",
      "11it [00:00, 18.54it/s]\n",
      "\n",
      "13it [00:00, 17.26it/s]\n",
      "\n",
      "15it [00:00, 16.98it/s]\n",
      "\n",
      "17it [00:01, 16.68it/s]\n",
      "\n",
      "19it [00:01, 16.36it/s]\n",
      "\n",
      "21it [00:01, 15.06it/s]\n",
      "\n",
      "24it [00:01, 15.54it/s]\n",
      "\n",
      "26it [00:01, 15.59it/s]\n",
      "\n",
      "28it [00:01, 15.51it/s]\n",
      "\n",
      "30it [00:01, 15.31it/s]\n",
      "\n",
      "32it [00:02, 15.21it/s]\n",
      "\n",
      "34it [00:02, 15.35it/s]\n",
      "\n",
      "36it [00:02, 15.04it/s]\n",
      "\n",
      "38it [00:02, 14.66it/s]\n",
      "\n",
      "40it [00:02, 14.66it/s]\n",
      "\n",
      "42it [00:02, 14.81it/s]\n",
      "\n",
      "44it [00:02, 14.78it/s]\n",
      "\n",
      "46it [00:03, 14.86it/s]\n",
      "\n",
      "49it [00:03, 15.12it/s]\n",
      "\n",
      "\n",
      "1it [00:03,  3.40s/it]"
     ]
    },
    {
     "name": "stdout",
     "output_type": "stream",
     "text": [
      "1\n"
     ]
    },
    {
     "name": "stderr",
     "output_type": "stream",
     "text": [
      "\n",
      "\n",
      "0it [00:00, ?it/s]\n",
      "\n",
      "1it [00:00,  6.66it/s]\n",
      "\n",
      "3it [00:00, 11.06it/s]\n",
      "\n",
      "6it [00:00, 15.10it/s]\n",
      "Exception in thread Thread-8:\n",
      "Traceback (most recent call last):\n",
      "  File \"C:\\Users\\SUSANTA\\Anaconda3\\envs\\tensorflow\\lib\\threading.py\", line 916, in _bootstrap_inner\n",
      "    self.run()\n",
      "  File \"C:\\Users\\SUSANTA\\Anaconda3\\envs\\tensorflow\\lib\\site-packages\\tqdm\\_tqdm.py\", line 144, in run\n",
      "    for instance in self.tqdm_cls._instances:\n",
      "  File \"C:\\Users\\SUSANTA\\Anaconda3\\envs\\tensorflow\\lib\\_weakrefset.py\", line 60, in __iter__\n",
      "    for itemref in self.data:\n",
      "RuntimeError: Set changed size during iteration\n",
      "\n",
      "\n",
      "8it [00:00, 14.75it/s]\n",
      "10it [00:00, 13.48it/s]\n",
      "12it [00:01, 10.94it/s]\n",
      "14it [00:01, 11.68it/s]\n",
      "16it [00:01, 12.04it/s]\n",
      "18it [00:01, 12.59it/s]\n",
      "21it [00:01, 13.41it/s]\n",
      "23it [00:01, 13.40it/s]\n",
      "25it [00:01, 13.53it/s]\n",
      "28it [00:02, 13.73it/s]\n",
      "30it [00:02, 13.36it/s]\n",
      "33it [00:02, 13.80it/s]\n",
      "35it [00:02, 13.73it/s]\n",
      "37it [00:02, 13.41it/s]\n",
      "39it [00:02, 13.47it/s]\n",
      "41it [00:03, 13.59it/s]\n",
      "43it [00:03, 13.66it/s]\n",
      "45it [00:03, 13.76it/s]\n",
      "47it [00:03, 13.79it/s]\n",
      "49it [00:03, 13.76it/s]\n",
      "2it [00:07,  3.52s/it]"
     ]
    },
    {
     "name": "stdout",
     "output_type": "stream",
     "text": [
      "2\n"
     ]
    },
    {
     "name": "stderr",
     "output_type": "stream",
     "text": [
      "\n",
      "0it [00:00, ?it/s]\n",
      "2it [00:00, 16.87it/s]\n",
      "4it [00:00, 15.88it/s]\n",
      "6it [00:00, 16.57it/s]\n",
      "9it [00:00, 17.91it/s]\n",
      "11it [00:00, 18.08it/s]\n",
      "13it [00:00, 17.55it/s]\n",
      "15it [00:00, 17.23it/s]\n",
      "17it [00:01, 16.56it/s]\n",
      "19it [00:01, 16.28it/s]\n",
      "21it [00:01, 15.74it/s]\n",
      "24it [00:01, 16.44it/s]\n",
      "26it [00:01, 16.45it/s]\n",
      "28it [00:01, 16.38it/s]\n",
      "30it [00:01, 15.82it/s]\n",
      "33it [00:02, 16.23it/s]\n",
      "36it [00:02, 16.39it/s]\n",
      "38it [00:02, 15.14it/s]\n",
      "40it [00:02, 15.04it/s]\n",
      "42it [00:02, 14.36it/s]\n",
      "45it [00:03, 14.72it/s]\n",
      "47it [00:03, 14.56it/s]\n",
      "49it [00:03, 14.66it/s]\n",
      "3it [00:10,  3.49s/it]"
     ]
    },
    {
     "name": "stdout",
     "output_type": "stream",
     "text": [
      "3\n"
     ]
    },
    {
     "name": "stderr",
     "output_type": "stream",
     "text": [
      "\n",
      "0it [00:00, ?it/s]\n",
      "3it [00:00, 19.69it/s]\n",
      "5it [00:00, 18.49it/s]\n",
      "7it [00:00, 18.91it/s]\n",
      "10it [00:00, 21.08it/s]\n",
      "12it [00:00, 20.25it/s]\n",
      "14it [00:00, 19.43it/s]\n",
      "16it [00:00, 18.53it/s]\n",
      "18it [00:01, 16.75it/s]\n",
      "20it [00:01, 16.90it/s]\n",
      "22it [00:01, 16.95it/s]\n",
      "24it [00:01, 16.82it/s]\n",
      "26it [00:01, 16.62it/s]\n",
      "28it [00:01, 15.91it/s]\n",
      "30it [00:01, 15.06it/s]\n",
      "33it [00:02, 15.43it/s]\n",
      "36it [00:02, 15.75it/s]\n",
      "38it [00:02, 15.64it/s]\n",
      "40it [00:02, 15.50it/s]\n",
      "42it [00:02, 15.32it/s]\n",
      "44it [00:02, 15.39it/s]\n",
      "46it [00:02, 15.46it/s]\n",
      "48it [00:03, 15.45it/s]\n",
      "50it [00:03, 14.68it/s]\n",
      "4it [00:13,  3.47s/it]"
     ]
    },
    {
     "name": "stdout",
     "output_type": "stream",
     "text": [
      "4\n"
     ]
    },
    {
     "name": "stderr",
     "output_type": "stream",
     "text": [
      "\n",
      "0it [00:00, ?it/s]\n",
      "3it [00:00, 27.52it/s]\n",
      "6it [00:00, 25.63it/s]\n",
      "8it [00:00, 18.86it/s]\n",
      "11it [00:00, 20.17it/s]\n",
      "13it [00:00, 20.03it/s]\n",
      "16it [00:00, 20.79it/s]\n",
      "19it [00:00, 21.05it/s]\n",
      "22it [00:01, 20.34it/s]\n",
      "25it [00:01, 20.61it/s]\n",
      "28it [00:01, 20.79it/s]\n",
      "31it [00:01, 20.82it/s]\n",
      "34it [00:01, 20.54it/s]\n",
      "37it [00:01, 20.52it/s]\n",
      "40it [00:01, 20.63it/s]\n",
      "43it [00:02, 20.61it/s]\n",
      "46it [00:02, 20.64it/s]\n",
      "49it [00:02, 20.49it/s]\n",
      "5it [00:16,  3.27s/it]"
     ]
    },
    {
     "name": "stdout",
     "output_type": "stream",
     "text": [
      "5\n"
     ]
    },
    {
     "name": "stderr",
     "output_type": "stream",
     "text": [
      "\n",
      "0it [00:00, ?it/s]\n",
      "3it [00:00, 23.98it/s]\n",
      "6it [00:00, 24.98it/s]\n",
      "9it [00:00, 23.19it/s]\n",
      "11it [00:00, 22.40it/s]\n",
      "13it [00:00, 17.30it/s]\n",
      "15it [00:00, 17.15it/s]\n",
      "17it [00:01, 16.89it/s]\n",
      "19it [00:01, 15.49it/s]\n",
      "21it [00:01, 14.35it/s]\n",
      "23it [00:01, 12.22it/s]\n",
      "25it [00:01, 12.54it/s]\n",
      "27it [00:02, 12.64it/s]\n",
      "29it [00:02, 12.54it/s]\n",
      "31it [00:02, 12.53it/s]\n",
      "33it [00:02, 12.82it/s]\n",
      "35it [00:02, 13.03it/s]\n",
      "37it [00:02, 12.97it/s]\n",
      "39it [00:02, 13.21it/s]\n",
      "41it [00:03, 13.33it/s]\n",
      "43it [00:03, 13.27it/s]\n",
      "45it [00:03, 13.30it/s]\n",
      "47it [00:03, 12.84it/s]\n",
      "49it [00:03, 12.59it/s]\n",
      "6it [00:20,  3.40s/it]"
     ]
    },
    {
     "name": "stdout",
     "output_type": "stream",
     "text": [
      "6\n"
     ]
    },
    {
     "name": "stderr",
     "output_type": "stream",
     "text": [
      "\n",
      "0it [00:00, ?it/s]\n",
      "1it [00:00,  5.46it/s]\n",
      "3it [00:00,  8.66it/s]\n",
      "6it [00:00, 12.16it/s]\n",
      "8it [00:00, 13.41it/s]\n",
      "11it [00:00, 15.76it/s]\n",
      "13it [00:00, 16.04it/s]\n",
      "16it [00:00, 16.83it/s]\n",
      "18it [00:01, 16.89it/s]\n",
      "21it [00:01, 17.42it/s]\n",
      "23it [00:01, 17.49it/s]\n",
      "26it [00:01, 15.60it/s]\n",
      "28it [00:01, 15.45it/s]\n",
      "30it [00:02, 13.75it/s]\n",
      "34it [00:02, 14.72it/s]\n",
      "36it [00:02, 14.93it/s]\n",
      "39it [00:02, 15.51it/s]\n",
      "42it [00:02, 15.29it/s]\n",
      "44it [00:03, 14.29it/s]\n",
      "47it [00:03, 14.65it/s]\n",
      "50it [00:03, 14.98it/s]\n",
      "7it [00:23,  3.39s/it]"
     ]
    },
    {
     "name": "stdout",
     "output_type": "stream",
     "text": [
      "7\n"
     ]
    },
    {
     "name": "stderr",
     "output_type": "stream",
     "text": [
      "\n",
      "0it [00:00, ?it/s]\n",
      "3it [00:00, 19.34it/s]\n",
      "5it [00:00, 17.97it/s]\n",
      "6it [00:00, 15.74it/s]\n",
      "8it [00:00, 16.05it/s]\n",
      "10it [00:00, 14.98it/s]\n",
      "12it [00:00, 15.39it/s]\n",
      "14it [00:00, 15.17it/s]\n",
      "17it [00:01, 11.47it/s]\n",
      "19it [00:01, 10.64it/s]\n",
      "21it [00:01, 10.85it/s]\n",
      "23it [00:02, 10.19it/s]\n",
      "24it [00:02, 10.03it/s]\n",
      "25it [00:02,  9.89it/s]\n",
      "26it [00:02,  9.87it/s]\n",
      "28it [00:02,  9.71it/s]\n",
      "29it [00:02,  9.71it/s]\n",
      "31it [00:03,  9.81it/s]\n",
      "33it [00:03, 10.07it/s]\n",
      "35it [00:03, 10.23it/s]\n",
      "37it [00:03, 10.43it/s]\n",
      "39it [00:03, 10.02it/s]\n",
      "41it [00:04, 10.04it/s]\n",
      "43it [00:04, 10.06it/s]\n",
      "45it [00:04, 10.21it/s]\n",
      "47it [00:04, 10.30it/s]\n",
      "49it [00:04, 10.43it/s]\n",
      "8it [00:28,  3.57s/it]"
     ]
    },
    {
     "name": "stdout",
     "output_type": "stream",
     "text": [
      "8\n"
     ]
    },
    {
     "name": "stderr",
     "output_type": "stream",
     "text": [
      "\n",
      "0it [00:00, ?it/s]\n",
      "1it [00:00,  9.80it/s]\n",
      "3it [00:00, 12.87it/s]\n",
      "5it [00:00, 12.10it/s]\n",
      "7it [00:00, 12.65it/s]\n",
      "9it [00:00, 13.07it/s]\n",
      "11it [00:00, 12.65it/s]\n",
      "13it [00:01, 12.71it/s]\n",
      "15it [00:01, 12.62it/s]\n",
      "17it [00:01, 12.93it/s]\n",
      "20it [00:01, 13.95it/s]\n",
      "23it [00:01, 14.79it/s]\n",
      "25it [00:01, 15.10it/s]\n",
      "27it [00:02, 12.44it/s]\n",
      "29it [00:02, 12.28it/s]\n",
      "31it [00:02, 12.42it/s]\n",
      "33it [00:02, 12.26it/s]\n",
      "36it [00:02, 12.73it/s]\n",
      "39it [00:03, 11.61it/s]\n",
      "41it [00:03, 11.80it/s]\n",
      "43it [00:03, 11.68it/s]\n",
      "45it [00:03, 11.72it/s]\n",
      "47it [00:03, 11.82it/s]\n",
      "49it [00:04, 12.02it/s]\n",
      "9it [00:32,  3.64s/it]"
     ]
    },
    {
     "name": "stdout",
     "output_type": "stream",
     "text": [
      "9\n"
     ]
    },
    {
     "name": "stderr",
     "output_type": "stream",
     "text": [
      "\n",
      "0it [00:00, ?it/s]\n",
      "2it [00:00,  9.79it/s]\n",
      "4it [00:00, 11.13it/s]\n",
      "5it [00:00, 10.18it/s]\n",
      "7it [00:00, 10.88it/s]\n",
      "9it [00:00, 11.32it/s]\n",
      "12it [00:00, 12.75it/s]\n",
      "14it [00:01, 12.83it/s]\n",
      "16it [00:01, 12.73it/s]\n",
      "19it [00:01, 13.64it/s]\n",
      "22it [00:01, 14.13it/s]\n",
      "24it [00:01, 14.25it/s]\n",
      "27it [00:01, 14.76it/s]\n",
      "29it [00:01, 15.00it/s]\n",
      "32it [00:02, 15.06it/s]\n",
      "34it [00:02, 15.14it/s]\n",
      "36it [00:02, 14.78it/s]\n",
      "38it [00:02, 14.90it/s]\n",
      "40it [00:02, 15.05it/s]\n",
      "43it [00:02, 14.95it/s]\n",
      "45it [00:03, 14.73it/s]\n",
      "47it [00:03, 14.56it/s]\n",
      "49it [00:03, 14.72it/s]\n",
      "10it [00:36,  3.61s/it]"
     ]
    },
    {
     "name": "stdout",
     "output_type": "stream",
     "text": [
      "10\n"
     ]
    },
    {
     "name": "stderr",
     "output_type": "stream",
     "text": [
      "\n",
      "0it [00:00, ?it/s]\n",
      "1it [00:00,  9.00it/s]\n",
      "3it [00:00, 10.37it/s]\n",
      "5it [00:00,  9.48it/s]\n",
      "8it [00:00, 11.88it/s]\n",
      "10it [00:00, 12.88it/s]\n",
      "12it [00:00, 13.66it/s]\n",
      "15it [00:01, 14.99it/s]\n",
      "17it [00:01, 14.75it/s]\n",
      "19it [00:01, 14.73it/s]\n",
      "21it [00:01, 14.51it/s]\n",
      "23it [00:01, 14.48it/s]\n",
      "25it [00:01, 14.70it/s]\n",
      "27it [00:01, 14.79it/s]\n",
      "29it [00:01, 14.95it/s]\n",
      "31it [00:02, 15.05it/s]\n",
      "33it [00:02, 14.74it/s]\n",
      "35it [00:02, 14.78it/s]\n",
      "37it [00:02, 14.70it/s]\n",
      "40it [00:02, 15.13it/s]\n",
      "43it [00:02, 15.45it/s]\n",
      "46it [00:02, 15.73it/s]\n",
      "48it [00:03, 15.76it/s]\n",
      "50it [00:03, 15.53it/s]\n",
      "11it [00:39,  3.58s/it]"
     ]
    },
    {
     "name": "stdout",
     "output_type": "stream",
     "text": [
      "11\n"
     ]
    },
    {
     "name": "stderr",
     "output_type": "stream",
     "text": [
      "\n",
      "0it [00:00, ?it/s]\n",
      "3it [00:00, 20.52it/s]\n",
      "4it [00:00, 16.21it/s]\n",
      "6it [00:00, 16.49it/s]\n",
      "9it [00:00, 16.46it/s]\n",
      "11it [00:00, 16.87it/s]\n",
      "13it [00:00, 16.81it/s]\n",
      "15it [00:00, 17.09it/s]\n",
      "17it [00:01, 15.94it/s]\n",
      "19it [00:01, 15.36it/s]\n",
      "21it [00:01, 15.23it/s]\n",
      "23it [00:01, 14.91it/s]\n",
      "25it [00:02, 12.25it/s]\n",
      "27it [00:02, 12.35it/s]\n",
      "29it [00:02, 12.50it/s]\n",
      "31it [00:02, 12.18it/s]\n",
      "33it [00:02, 12.06it/s]\n",
      "35it [00:02, 12.09it/s]\n",
      "37it [00:03, 11.95it/s]\n",
      "40it [00:03, 12.22it/s]\n",
      "42it [00:03, 12.30it/s]\n",
      "44it [00:03, 12.42it/s]\n",
      "46it [00:03, 12.53it/s]\n",
      "48it [00:03, 12.44it/s]\n",
      "50it [00:04, 12.47it/s]\n",
      "12it [00:43,  3.62s/it]"
     ]
    },
    {
     "name": "stdout",
     "output_type": "stream",
     "text": [
      "12\n"
     ]
    },
    {
     "name": "stderr",
     "output_type": "stream",
     "text": [
      "\n",
      "0it [00:00, ?it/s]\n",
      "2it [00:00, 18.51it/s]\n",
      "4it [00:00, 17.01it/s]\n",
      "6it [00:00, 17.13it/s]\n",
      "8it [00:00, 15.92it/s]\n",
      "10it [00:00, 15.45it/s]\n",
      "12it [00:00, 14.99it/s]\n",
      "15it [00:00, 16.00it/s]\n",
      "17it [00:01, 15.57it/s]\n",
      "19it [00:01, 15.74it/s]\n",
      "21it [00:01, 15.63it/s]\n",
      "23it [00:01, 14.54it/s]\n",
      "25it [00:02, 11.86it/s]\n",
      "27it [00:02, 12.17it/s]\n",
      "29it [00:02, 12.28it/s]\n",
      "32it [00:02, 12.80it/s]\n",
      "34it [00:02, 12.97it/s]\n",
      "37it [00:02, 13.43it/s]\n",
      "39it [00:02, 13.57it/s]\n",
      "42it [00:02, 14.07it/s]\n",
      "45it [00:03, 14.49it/s]\n",
      "48it [00:03, 14.61it/s]\n",
      "13it [00:46,  3.60s/it]"
     ]
    },
    {
     "name": "stdout",
     "output_type": "stream",
     "text": [
      "13\n"
     ]
    },
    {
     "name": "stderr",
     "output_type": "stream",
     "text": [
      "\n",
      "0it [00:00, ?it/s]\n",
      "2it [00:00, 14.17it/s]\n",
      "4it [00:00, 16.38it/s]\n",
      "7it [00:00, 18.84it/s]\n",
      "10it [00:00, 19.97it/s]\n",
      "12it [00:00, 16.95it/s]\n",
      "14it [00:00, 17.15it/s]\n",
      "17it [00:00, 17.91it/s]\n",
      "20it [00:01, 18.77it/s]\n",
      "23it [00:01, 19.52it/s]\n",
      "26it [00:01, 19.54it/s]\n",
      "29it [00:01, 19.20it/s]\n",
      "32it [00:01, 18.87it/s]\n",
      "34it [00:01, 18.87it/s]\n",
      "37it [00:01, 19.05it/s]\n",
      "40it [00:02, 19.31it/s]\n",
      "43it [00:02, 19.27it/s]\n",
      "46it [00:02, 18.10it/s]\n",
      "48it [00:02, 17.47it/s]\n",
      "14it [00:49,  3.55s/it]"
     ]
    },
    {
     "name": "stdout",
     "output_type": "stream",
     "text": [
      "14\n"
     ]
    },
    {
     "name": "stderr",
     "output_type": "stream",
     "text": [
      "\n",
      "0it [00:00, ?it/s]\n",
      "\n"
     ]
    },
    {
     "ename": "IndexError",
     "evalue": "list index out of range",
     "output_type": "error",
     "traceback": [
      "\u001b[1;31m---------------------------------------------------------------------------\u001b[0m",
      "\u001b[1;31mIndexError\u001b[0m                                Traceback (most recent call last)",
      "\u001b[1;32m<ipython-input-64-9c1deef873b1>\u001b[0m in \u001b[0;36m<module>\u001b[1;34m()\u001b[0m\n\u001b[0;32m      4\u001b[0m     \u001b[0mlabel\u001b[0m \u001b[1;33m=\u001b[0m \u001b[0mstr\u001b[0m\u001b[1;33m(\u001b[0m\u001b[0mi\u001b[0m\u001b[1;33m)\u001b[0m\u001b[1;33m\u001b[0m\u001b[0m\n\u001b[0;32m      5\u001b[0m     \u001b[1;32mfor\u001b[0m \u001b[0m_\u001b[0m\u001b[1;33m,\u001b[0m\u001b[0mfilename\u001b[0m \u001b[1;32min\u001b[0m \u001b[0mtqdm\u001b[0m\u001b[1;33m(\u001b[0m\u001b[0menumerate\u001b[0m\u001b[1;33m(\u001b[0m\u001b[0mcurr_dir\u001b[0m\u001b[1;33m)\u001b[0m\u001b[1;33m)\u001b[0m\u001b[1;33m:\u001b[0m\u001b[1;33m\u001b[0m\u001b[0m\n\u001b[1;32m----> 6\u001b[1;33m         \u001b[1;32mif\u001b[0m \u001b[0mreq_img\u001b[0m\u001b[1;33m[\u001b[0m\u001b[0mi\u001b[0m\u001b[1;33m]\u001b[0m \u001b[1;33m<=\u001b[0m \u001b[1;36m0\u001b[0m\u001b[1;33m:\u001b[0m\u001b[1;33m\u001b[0m\u001b[0m\n\u001b[0m\u001b[0;32m      7\u001b[0m             \u001b[1;32mbreak\u001b[0m\u001b[1;33m\u001b[0m\u001b[0m\n\u001b[0;32m      8\u001b[0m         \u001b[0mgenerate_image\u001b[0m\u001b[1;33m(\u001b[0m\u001b[0mlabel\u001b[0m\u001b[1;33m,\u001b[0m \u001b[0mfilename\u001b[0m\u001b[1;33m,\u001b[0m \u001b[0msamples_per_img\u001b[0m\u001b[1;33m)\u001b[0m\u001b[1;33m\u001b[0m\u001b[0m\n",
      "\u001b[1;31mIndexError\u001b[0m: list index out of range"
     ]
    }
   ],
   "source": [
    "# for augmenting images from a folder\n",
    "def augment_images(dir_list, dest, samples_per_img, req_img):\n",
    "    # generate required images for each folder\n",
    "    for i, curr_dir in tqdm(enumerate(dir_list)):\n",
    "        print(i)\n",
    "        label = str(i)\n",
    "        for _,filename in tqdm(enumerate(curr_dir)):\n",
    "            if req_img[i] <= 0:\n",
    "                break\n",
    "            generate_image(label, filename, samples_per_img, dest)\n",
    "            req_img[i] = req_img[i] - samples_per_img"
   ]
  },
  {
   "cell_type": "markdown",
   "metadata": {},
   "source": [
    "## For creating better data distribution"
   ]
  },
  {
   "cell_type": "code",
   "execution_count": null,
   "metadata": {},
   "outputs": [],
   "source": [
    "# no. of aygmented images to be generated from each image\n",
    "samples_per_img = 8\n",
    "# destination folder\n",
    "dest = ''\n",
    "# required no. of images for each class\n",
    "req_img = [5000, 0, 0, 0, 0, 5000, 1000, 5000, 3000, 1000, 5000, 2000, 3000, 5000]\n",
    "\n",
    "for i in range(15):\n",
    "    augment_images(dir_list, dest, samples_per_img, req_img)"
   ]
  },
  {
   "cell_type": "markdown",
   "metadata": {},
   "source": [
    "## For creating validation set"
   ]
  },
  {
   "cell_type": "code",
   "execution_count": null,
   "metadata": {},
   "outputs": [],
   "source": [
    "# no. of aygmented images to be generated from each image\n",
    "samples_per_img = 8\n",
    "# destination folder\n",
    "dest = 'validation'\n",
    "# required no. of images for each class\n",
    "req_img = [500, 500, 500, 500, 500, 500, 500, 500, 500, 500, 500, 500, 500, 500]\n",
    "\n",
    "augment_images(dir_list, dest, samples_per_img, req_img)"
   ]
  },
  {
   "cell_type": "code",
   "execution_count": null,
   "metadata": {},
   "outputs": [],
   "source": [
    "# counts total number of files \n",
    "def count_files(path):\n",
    "    # total files\n",
    "    total = 0\n",
    "    # iterate through different folders and get list of files in each folder\n",
    "    for i in range(15):\n",
    "        label = str(i)\n",
    "        dirs = scan_dir(label, path + label)\n",
    "        total += len(dirs)\n",
    "    return total"
   ]
  },
  {
   "cell_type": "code",
   "execution_count": null,
   "metadata": {},
   "outputs": [],
   "source": [
    "# training path\n",
    "path_train = 'dataset//train//'\n",
    "# validation path\n",
    "path_val = 'dataset//train//'\n",
    "\n",
    "total = count_files(path_train)\n",
    "print('Total Training images: ' + str(total))\n",
    "total = count_files(path_val)\n",
    "print('Total Validation images: ' + str(total))"
   ]
  }
 ],
 "metadata": {
  "kernelspec": {
   "display_name": "Python 3",
   "language": "python",
   "name": "python3"
  },
  "language_info": {
   "codemirror_mode": {
    "name": "ipython",
    "version": 3
   },
   "file_extension": ".py",
   "mimetype": "text/x-python",
   "name": "python",
   "nbconvert_exporter": "python",
   "pygments_lexer": "ipython3",
   "version": "3.6.3"
  }
 },
 "nbformat": 4,
 "nbformat_minor": 2
}
